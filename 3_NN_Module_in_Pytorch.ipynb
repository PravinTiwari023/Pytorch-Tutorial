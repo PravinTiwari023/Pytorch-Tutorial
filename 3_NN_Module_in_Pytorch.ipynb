{
  "nbformat": 4,
  "nbformat_minor": 0,
  "metadata": {
    "colab": {
      "provenance": [],
      "authorship_tag": "ABX9TyM7C1u+kJShTXMazfNn+rtx",
      "include_colab_link": true
    },
    "kernelspec": {
      "name": "python3",
      "display_name": "Python 3"
    },
    "language_info": {
      "name": "python"
    }
  },
  "cells": [
    {
      "cell_type": "markdown",
      "metadata": {
        "id": "view-in-github",
        "colab_type": "text"
      },
      "source": [
        "<a href=\"https://colab.research.google.com/github/PravinTiwari023/Pytorch-Tutorial/blob/main/3_NN_Module_in_Pytorch.ipynb\" target=\"_parent\"><img src=\"https://colab.research.google.com/assets/colab-badge.svg\" alt=\"Open In Colab\"/></a>"
      ]
    },
    {
      "cell_type": "markdown",
      "source": [
        "**End Goal:**\n",
        "\n",
        "1. The NN module\n",
        "2. The Torch.optim module\n",
        "\n",
        "**Improvement:**\n",
        "\n",
        "1. Building neural networks using nn module\n",
        "2. Using built-in activation function\n",
        "3. Using built-in loss function\n",
        "4. Using built-in optimizer\n",
        "---"
      ],
      "metadata": {
        "id": "bJxlsRkQ2enz"
      }
    },
    {
      "cell_type": "markdown",
      "source": [
        "### 1️⃣ **`torch.nn` (Neural Network Module)**  \n",
        "🔹 **Purpose:** Helps in building and defining neural networks easily.  \n",
        "🔹 **Why use it?** Instead of manually implementing activation functions, layers, and loss calculations, `torch.nn` provides ready-made components.\n",
        "\n",
        "🔹 **Key Components:**  \n",
        "✅ `nn.Linear()` – Fully connected (dense) layers  \n",
        "✅ `nn.Conv2d()` – Convolutional layers (used in CNNs)  \n",
        "✅ `nn.ReLU(), nn.Sigmoid(), nn.Tanh()` – Activation functions  \n",
        "✅ `nn.CrossEntropyLoss(), nn.MSELoss()` – Loss functions  \n",
        "✅ `nn.Sequential()` – To stack layers in an easy way  \n",
        "\n",
        "👉 `torch.nn` makes it easy to define and structure deep learning models.\n",
        "\n",
        "---\n",
        "\n",
        "### 2️⃣ **`torch.optim` (Optimization Module)**  \n",
        "🔹 **Purpose:** Helps in training the model by optimizing the weights using different optimization algorithms.  \n",
        "🔹 **Why use it?** Instead of manually updating weights using gradient descent, `torch.optim` provides efficient optimizers.\n",
        "\n",
        "🔹 **Key Optimizers:**  \n",
        "✅ `optim.SGD()` – Stochastic Gradient Descent  \n",
        "✅ `optim.Adam()` – Adaptive Moment Estimation (widely used)  \n",
        "✅ `optim.RMSprop()` – Root Mean Square Propagation  \n",
        "\n",
        "👉 `torch.optim` helps adjust model weights automatically based on the computed gradients.\n",
        "\n",
        "---"
      ],
      "metadata": {
        "id": "rHCkFEbN5h5C"
      }
    },
    {
      "cell_type": "code",
      "execution_count": 2,
      "metadata": {
        "id": "T1kkCyJw1zED"
      },
      "outputs": [],
      "source": [
        "# Create model class\n",
        "import torch\n",
        "import torch.nn as nn\n",
        "\n",
        "class Model(nn.Module):\n",
        "\n",
        "    def __init__(self, num_features):\n",
        "      super().__init__()\n",
        "      self.linear = nn.Linear(num_features, 1)\n",
        "      self.sigmoid = nn.Sigmoid()\n",
        "\n",
        "    def forward(self, features):\n",
        "        out = self.linear(features)\n",
        "        out = self.sigmoid(out)\n",
        "        return out"
      ]
    },
    {
      "cell_type": "code",
      "source": [
        "# Create dataset\n",
        "features = torch.randn(10, 5)\n",
        "\n",
        "# Create model\n",
        "model = Model(features.shape[1])\n",
        "\n",
        "# Forward pass\n",
        "output = model(features)"
      ],
      "metadata": {
        "id": "r0sQtvQK6aUV"
      },
      "execution_count": 4,
      "outputs": []
    },
    {
      "cell_type": "code",
      "source": [
        "# Model weights and bias\n",
        "print(model.linear.weight)\n",
        "print(model.linear.bias)"
      ],
      "metadata": {
        "colab": {
          "base_uri": "https://localhost:8080/"
        },
        "id": "ydWF8MHX6aKF",
        "outputId": "41de304b-07cf-43cf-f0e7-1adf70590b4a"
      },
      "execution_count": 6,
      "outputs": [
        {
          "output_type": "stream",
          "name": "stdout",
          "text": [
            "Parameter containing:\n",
            "tensor([[ 0.0890,  0.3011,  0.3548, -0.0801,  0.0266]], requires_grad=True)\n",
            "Parameter containing:\n",
            "tensor([0.0500], requires_grad=True)\n"
          ]
        }
      ]
    },
    {
      "cell_type": "code",
      "source": [
        "# !pip install torchinfo"
      ],
      "metadata": {
        "id": "uQ6f5cVY6Z89"
      },
      "execution_count": 8,
      "outputs": []
    },
    {
      "cell_type": "code",
      "source": [
        "from torchinfo import summary\n",
        "\n",
        "summary(model, input_size=(10, 5))"
      ],
      "metadata": {
        "colab": {
          "base_uri": "https://localhost:8080/"
        },
        "id": "alxMAtUI6Zxt",
        "outputId": "a702def9-decb-43c8-ce74-19bec42d5042"
      },
      "execution_count": 9,
      "outputs": [
        {
          "output_type": "execute_result",
          "data": {
            "text/plain": [
              "==========================================================================================\n",
              "Layer (type:depth-idx)                   Output Shape              Param #\n",
              "==========================================================================================\n",
              "Model                                    [10, 1]                   --\n",
              "├─Linear: 1-1                            [10, 1]                   6\n",
              "├─Sigmoid: 1-2                           [10, 1]                   --\n",
              "==========================================================================================\n",
              "Total params: 6\n",
              "Trainable params: 6\n",
              "Non-trainable params: 0\n",
              "Total mult-adds (Units.MEGABYTES): 0.00\n",
              "==========================================================================================\n",
              "Input size (MB): 0.00\n",
              "Forward/backward pass size (MB): 0.00\n",
              "Params size (MB): 0.00\n",
              "Estimated Total Size (MB): 0.00\n",
              "=========================================================================================="
            ]
          },
          "metadata": {},
          "execution_count": 9
        }
      ]
    },
    {
      "cell_type": "markdown",
      "source": [
        "### 🏆 **Summary:**  \n",
        "| Module       | Purpose |\n",
        "|-------------|----------------|\n",
        "| `torch.nn`  | Defines layers, activation functions, loss functions, etc. |\n",
        "| `torch.optim` | Optimizes weights during training using different algorithms. |\n",
        "\n",
        "💡 **Real-world analogy:**  \n",
        "- `torch.nn` is like a **chef** who prepares the meal (building the model).  \n",
        "- `torch.optim` is like the **waiter** who adjusts the seasoning based on customer feedback (training process).\n",
        "---"
      ],
      "metadata": {
        "id": "3qxKTS-S3pfZ"
      }
    },
    {
      "cell_type": "code",
      "source": [
        "# New Example without containner\n",
        "class Model1(nn.Module):\n",
        "\n",
        "  def __init__(self, num_features):\n",
        "    super().__init__()\n",
        "    self.linear1 = nn.Linear(num_features, 3)\n",
        "    self.relu = nn.ReLU()\n",
        "    self.linear2 = nn.Linear(3, 1)\n",
        "    self.sigmoid = nn.Sigmoid()\n",
        "\n",
        "  def forward(self, features):\n",
        "    out = self.linear1(features)\n",
        "    out = self.relu(out)\n",
        "    out = self.linear2(out)\n",
        "    out = self.sigmoid(out)\n",
        "    return out"
      ],
      "metadata": {
        "id": "30TB6PMS3vsa"
      },
      "execution_count": 19,
      "outputs": []
    },
    {
      "cell_type": "code",
      "source": [
        "# New Example with container\n",
        "class Model2(nn.Module):\n",
        "\n",
        "  def __init__(self, num_features):\n",
        "    super().__init__()\n",
        "    self.network = nn.Sequential(\n",
        "    nn.Linear(num_features, 3),\n",
        "    nn.ReLU(),\n",
        "    nn.Linear(3, 1),\n",
        "    nn.Sigmoid()\n",
        "    )\n",
        "\n",
        "  def forward(self, features):\n",
        "    out = self.network(features)\n",
        "    return out"
      ],
      "metadata": {
        "id": "H8PZtBgtAPj5"
      },
      "execution_count": 20,
      "outputs": []
    },
    {
      "cell_type": "code",
      "source": [
        "# Create dataset\n",
        "features = torch.randn(10, 5)\n",
        "\n",
        "# Create model\n",
        "model1 = Model1(features.shape[1])\n",
        "\n",
        "# Forward pass\n",
        "output = model(features)"
      ],
      "metadata": {
        "id": "ct_ZCHUoBKmt"
      },
      "execution_count": 24,
      "outputs": []
    },
    {
      "cell_type": "code",
      "source": [
        "# Create dataset\n",
        "features = torch.randn(10, 5)\n",
        "\n",
        "# Create model\n",
        "model2 = Model2(features.shape[1])\n",
        "\n",
        "# Forward pass\n",
        "output = model(features)"
      ],
      "metadata": {
        "id": "hYSpnal3-BOk"
      },
      "execution_count": 25,
      "outputs": []
    },
    {
      "cell_type": "code",
      "source": [
        "# Model weights and bias\n",
        "print(model1.linear1.weight)\n",
        "print(model1.linear1.bias)\n",
        "\n",
        "print(model1.linear2.weight)\n",
        "print(model1.linear2.bias)"
      ],
      "metadata": {
        "colab": {
          "base_uri": "https://localhost:8080/"
        },
        "id": "TU7WiEwA_QV8",
        "outputId": "740ea425-51dd-41e2-c7f5-99cbc66b49b3"
      },
      "execution_count": 26,
      "outputs": [
        {
          "output_type": "stream",
          "name": "stdout",
          "text": [
            "Parameter containing:\n",
            "tensor([[ 0.1387, -0.3192,  0.3674,  0.4197, -0.2175],\n",
            "        [-0.2342,  0.0012, -0.2923, -0.2506,  0.3070],\n",
            "        [ 0.3001, -0.4139,  0.0111, -0.2665,  0.2507]], requires_grad=True)\n",
            "Parameter containing:\n",
            "tensor([-0.3743,  0.3665, -0.2896], requires_grad=True)\n",
            "Parameter containing:\n",
            "tensor([[-0.3729, -0.1021,  0.1874]], requires_grad=True)\n",
            "Parameter containing:\n",
            "tensor([0.1306], requires_grad=True)\n"
          ]
        }
      ]
    },
    {
      "cell_type": "code",
      "source": [
        "from torchinfo import summary\n",
        "\n",
        "summary(model, input_size=(10, 5))"
      ],
      "metadata": {
        "colab": {
          "base_uri": "https://localhost:8080/"
        },
        "id": "-E_wJcBm_QOc",
        "outputId": "d071e60d-68ff-4b95-9591-82765b153ac5"
      },
      "execution_count": 18,
      "outputs": [
        {
          "output_type": "execute_result",
          "data": {
            "text/plain": [
              "==========================================================================================\n",
              "Layer (type:depth-idx)                   Output Shape              Param #\n",
              "==========================================================================================\n",
              "Model                                    [10, 1]                   --\n",
              "├─Linear: 1-1                            [10, 3]                   18\n",
              "├─ReLU: 1-2                              [10, 3]                   --\n",
              "├─Linear: 1-3                            [10, 1]                   4\n",
              "├─Sigmoid: 1-4                           [10, 1]                   --\n",
              "==========================================================================================\n",
              "Total params: 22\n",
              "Trainable params: 22\n",
              "Non-trainable params: 0\n",
              "Total mult-adds (Units.MEGABYTES): 0.00\n",
              "==========================================================================================\n",
              "Input size (MB): 0.00\n",
              "Forward/backward pass size (MB): 0.00\n",
              "Params size (MB): 0.00\n",
              "Estimated Total Size (MB): 0.00\n",
              "=========================================================================================="
            ]
          },
          "metadata": {},
          "execution_count": 18
        }
      ]
    },
    {
      "cell_type": "markdown",
      "source": [
        "**written flow diagram** for above neural network code with:  \n",
        "\n",
        "- **5 Input Neurons**  \n",
        "- **1 Hidden Layer with 3 Neurons**  \n",
        "- **1 Output Layer with 1 Neuron**  \n",
        "\n",
        "---\n",
        "\n",
        "### **📜 Written Flow Diagram:**\n",
        "\n",
        "1️⃣ **Input Layer (5 neurons)**  \n",
        "   - \\( X_1, X_2, X_3, X_4, X_5 \\) → Inputs  \n",
        "\n",
        "2️⃣ **Hidden Layer (3 neurons) with weights**  \n",
        "   - Each neuron in the hidden layer receives all 5 inputs, meaning it has 5 weights + 1 bias.  \n",
        "   - Neurons: \\( H_1, H_2, H_3 \\)  \n",
        "   - Weight connections:  \n",
        "     - \\( W_{1,1}, W_{1,2}, W_{1,3}, W_{1,4}, W_{1,5} \\) → Weights for \\( H_1 \\)  \n",
        "     - \\( W_{2,1}, W_{2,2}, W_{2,3}, W_{2,4}, W_{2,5} \\) → Weights for \\( H_2 \\)  \n",
        "     - \\( W_{3,1}, W_{3,2}, W_{3,3}, W_{3,4}, W_{3,5} \\) → Weights for \\( H_3 \\)  \n",
        "\n",
        "3️⃣ **Activation Function (ReLU, Sigmoid, etc.)**  \n",
        "   - Each neuron applies an activation function \\( f(x) \\) to produce an output  \n",
        "   - \\( H_1 = f(\\sum (X_i \\cdot W_{1,i}) + B_1) \\)  \n",
        "   - \\( H_2 = f(\\sum (X_i \\cdot W_{2,i}) + B_2) \\)  \n",
        "   - \\( H_3 = f(\\sum (X_i \\cdot W_{3,i}) + B_3) \\)  \n",
        "\n",
        "4️⃣ **Output Layer (1 neuron)**  \n",
        "   - Takes 3 inputs from the hidden layer neurons  \n",
        "   - Weight connections:  \n",
        "     - \\( W_{o1}, W_{o2}, W_{o3} \\) → Weights for the output neuron  \n",
        "   - Final output:  \n",
        "     - \\( Y = f(H_1 \\cdot W_{o1} + H_2 \\cdot W_{o2} + H_3 \\cdot W_{o3} + B_o) \\)  \n",
        "\n",
        "---\n",
        "\n",
        "### **📝 Final Summary:**\n",
        "```\n",
        "   Input Layer (5 Neurons)  →  Hidden Layer (3 Neurons)  →  Output Layer (1 Neuron)\n",
        "```\n",
        "Each connection has its own weight, and each neuron applies an activation function before passing the value to the next layer."
      ],
      "metadata": {
        "id": "lDwiV7v0-DS0"
      }
    },
    {
      "cell_type": "code",
      "source": [],
      "metadata": {
        "id": "AQlXGKWh-P5X"
      },
      "execution_count": null,
      "outputs": []
    }
  ]
}